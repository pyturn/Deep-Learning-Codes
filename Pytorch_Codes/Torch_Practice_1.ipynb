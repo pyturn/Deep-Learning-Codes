{
 "cells": [
  {
   "cell_type": "code",
   "execution_count": 2,
   "metadata": {},
   "outputs": [],
   "source": [
    "import torch"
   ]
  },
  {
   "cell_type": "code",
   "execution_count": 10,
   "metadata": {},
   "outputs": [
    {
     "data": {
      "text/plain": [
       "torch.Size([2])"
      ]
     },
     "execution_count": 10,
     "metadata": {},
     "output_type": "execute_result"
    }
   ],
   "source": [
    "torch.tensor([1,3]).size() "
   ]
  },
  {
   "cell_type": "code",
   "execution_count": 23,
   "metadata": {},
   "outputs": [
    {
     "data": {
      "text/plain": [
       "tensor([0., 0., 0.])"
      ]
     },
     "execution_count": 23,
     "metadata": {},
     "output_type": "execute_result"
    }
   ],
   "source": [
    "torch.zeros([1,3]).squeeze(dim = 0)"
   ]
  },
  {
   "cell_type": "code",
   "execution_count": 14,
   "metadata": {},
   "outputs": [
    {
     "data": {
      "text/plain": [
       "tensor([[[[[ 1.2796],\n",
       "           [ 0.5361],\n",
       "           [-0.0193],\n",
       "           [ 0.7238],\n",
       "           [-1.0905]],\n",
       "\n",
       "          [[-1.1332],\n",
       "           [-0.4537],\n",
       "           [-0.2331],\n",
       "           [ 2.1415],\n",
       "           [-1.6412]],\n",
       "\n",
       "          [[ 0.4314],\n",
       "           [ 0.0855],\n",
       "           [ 0.9297],\n",
       "           [-0.9285],\n",
       "           [ 0.3398]],\n",
       "\n",
       "          [[ 0.3370],\n",
       "           [-0.2490],\n",
       "           [ 1.6639],\n",
       "           [ 0.1867],\n",
       "           [ 1.7044]]],\n",
       "\n",
       "\n",
       "         [[[-0.2864],\n",
       "           [-0.0855],\n",
       "           [-2.4374],\n",
       "           [-0.9199],\n",
       "           [ 0.1039]],\n",
       "\n",
       "          [[-0.1260],\n",
       "           [ 0.6233],\n",
       "           [ 1.5205],\n",
       "           [ 0.3956],\n",
       "           [-0.6265]],\n",
       "\n",
       "          [[-0.4307],\n",
       "           [-1.2581],\n",
       "           [-0.5345],\n",
       "           [-0.7262],\n",
       "           [ 1.8948]],\n",
       "\n",
       "          [[-0.5235],\n",
       "           [ 0.9657],\n",
       "           [ 0.4700],\n",
       "           [ 1.5786],\n",
       "           [-1.5691]]],\n",
       "\n",
       "\n",
       "         [[[-0.6227],\n",
       "           [-0.1054],\n",
       "           [ 0.6551],\n",
       "           [-0.3779],\n",
       "           [-0.7854]],\n",
       "\n",
       "          [[ 1.3493],\n",
       "           [ 0.7753],\n",
       "           [-1.3843],\n",
       "           [ 1.0971],\n",
       "           [-0.2245]],\n",
       "\n",
       "          [[ 0.8813],\n",
       "           [-0.9332],\n",
       "           [ 0.4428],\n",
       "           [-0.4753],\n",
       "           [-0.1735]],\n",
       "\n",
       "          [[-0.5969],\n",
       "           [-0.6770],\n",
       "           [-1.0922],\n",
       "           [-0.8918],\n",
       "           [ 0.1504]]]],\n",
       "\n",
       "\n",
       "\n",
       "        [[[[-1.0563],\n",
       "           [ 1.2354],\n",
       "           [-0.9027],\n",
       "           [-0.2117],\n",
       "           [ 0.7738]],\n",
       "\n",
       "          [[ 0.0263],\n",
       "           [ 0.5551],\n",
       "           [-0.8562],\n",
       "           [ 1.0675],\n",
       "           [ 0.2818]],\n",
       "\n",
       "          [[ 2.5888],\n",
       "           [ 0.7582],\n",
       "           [-0.1559],\n",
       "           [ 0.4021],\n",
       "           [-0.0729]],\n",
       "\n",
       "          [[-0.6546],\n",
       "           [ 0.6974],\n",
       "           [ 1.3635],\n",
       "           [-0.1095],\n",
       "           [-0.6154]]],\n",
       "\n",
       "\n",
       "         [[[ 0.6287],\n",
       "           [ 2.2540],\n",
       "           [ 2.3157],\n",
       "           [-0.3120],\n",
       "           [-0.3229]],\n",
       "\n",
       "          [[-0.3251],\n",
       "           [-0.5912],\n",
       "           [-1.2068],\n",
       "           [-0.4580],\n",
       "           [ 0.4420]],\n",
       "\n",
       "          [[-0.0593],\n",
       "           [-1.6830],\n",
       "           [-0.2530],\n",
       "           [-1.7461],\n",
       "           [-2.1734]],\n",
       "\n",
       "          [[-0.9686],\n",
       "           [ 0.2989],\n",
       "           [ 0.9254],\n",
       "           [-1.7307],\n",
       "           [ 1.0871]]],\n",
       "\n",
       "\n",
       "         [[[-2.6221],\n",
       "           [ 0.7077],\n",
       "           [-0.1351],\n",
       "           [ 0.4959],\n",
       "           [ 1.1312]],\n",
       "\n",
       "          [[-1.4876],\n",
       "           [-0.6322],\n",
       "           [ 0.3669],\n",
       "           [-1.1317],\n",
       "           [-1.2433]],\n",
       "\n",
       "          [[ 0.6999],\n",
       "           [ 1.9268],\n",
       "           [ 0.8117],\n",
       "           [ 1.6609],\n",
       "           [ 1.8584]],\n",
       "\n",
       "          [[ 1.0393],\n",
       "           [-0.5454],\n",
       "           [ 0.0611],\n",
       "           [-0.0381],\n",
       "           [-0.6996]]]]])"
      ]
     },
     "execution_count": 14,
     "metadata": {},
     "output_type": "execute_result"
    }
   ],
   "source": [
    "torch.randn(2,3, 4,5,1)"
   ]
  },
  {
   "cell_type": "code",
   "execution_count": 18,
   "metadata": {},
   "outputs": [
    {
     "data": {
      "text/plain": [
       "tensor([0, 2])"
      ]
     },
     "execution_count": 18,
     "metadata": {},
     "output_type": "execute_result"
    }
   ],
   "source": [
    "torch.LongTensor([0,2])"
   ]
  },
  {
   "cell_type": "code",
   "execution_count": null,
   "metadata": {},
   "outputs": [],
   "source": []
  }
 ],
 "metadata": {
  "kernelspec": {
   "display_name": "Python [conda env:pytorch_gpu] *",
   "language": "python",
   "name": "conda-env-pytorch_gpu-py"
  },
  "language_info": {
   "codemirror_mode": {
    "name": "ipython",
    "version": 3
   },
   "file_extension": ".py",
   "mimetype": "text/x-python",
   "name": "python",
   "nbconvert_exporter": "python",
   "pygments_lexer": "ipython3",
   "version": "3.8.5"
  }
 },
 "nbformat": 4,
 "nbformat_minor": 4
}
